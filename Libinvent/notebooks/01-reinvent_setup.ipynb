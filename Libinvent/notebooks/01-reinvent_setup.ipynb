{
 "cells": [
  {
   "cell_type": "code",
   "execution_count": 2,
   "metadata": {},
   "outputs": [],
   "source": [
    "import os\n",
    "import torch\n",
    "from rdkit import Chem\n",
    "from rdkit.Chem import Draw\n",
    "\n",
    "if torch.cuda.is_available():\n",
    "    device = \"cuda:0\"\n",
    "else:\n",
    "    device = \"cpu\""
   ]
  },
  {
   "attachments": {},
   "cell_type": "markdown",
   "metadata": {},
   "source": [
    "### Set-up and Sampling"
   ]
  },
  {
   "cell_type": "code",
   "execution_count": 3,
   "metadata": {},
   "outputs": [],
   "source": [
    "# Set up folders and training params\n",
    "\n",
    "output_folder = \"../outputs/\"\n",
    "config_folder=  \"../config/\"\n",
    "model_folder = \"../models\"\n",
    "scoring_file = \"RL_scoring.toml\"\n",
    "prior_file = \"libinvent.prior\"\n",
    "scaffold_file = \"scaffolds.smi\"\n",
    "config_file = \"libinvent.toml\"\n",
    "log_file = \"libinvent.log\"\n",
    "\n",
    "# Inititial run params\n",
    "max_score = 0.3\n",
    "min_steps = 100\n",
    "max_steps = 2000\n",
    "\n",
    "# sampling runs params\n",
    "n_samples = 3 # Number of sampling runs - generate n checkpoint files\n",
    "min_steps_sample = 15 # when sampling from molecules generated during training, increasing num steps increases number of molecules"
   ]
  },
  {
   "cell_type": "code",
   "execution_count": 4,
   "metadata": {},
   "outputs": [
    {
     "data": {
      "image/png": "[encoded data removed]",
      "text/plain": [
       "<IPython.core.display.Image object>"
      ]
     },
     "execution_count": 4,
     "metadata": {},
     "output_type": "execute_result"
    }
   ],
   "source": [
    "# Input scaffolds for sampling\n",
    "\n",
    "scaffolds = [\"O=C(c(cc1)cc2c1scn2)NCc(cn([*])c3c4ccc(Cl)c3)c4=O\",\n",
    "             \"O=C([*])NCc(cn([*])c1c2ccc(Cl)c1)c2=O\",\n",
    "             \"O=C(c(cc1)cc2c1scn2)NCc(cn(c3ccccc3)c4c5ccc([*])c4)c5=O\",]\n",
    "\n",
    "with open(os.path.join(config_folder, scaffold_file), \"w\") as f:\n",
    "    for scaff in scaffolds:\n",
    "        f.writelines(scaff + \"\\n\")\n",
    "\n",
    "# Visualise Scaffolds\n",
    "        \n",
    "mols = [Chem.MolFromSmiles(x) for x in scaffolds]\n",
    "Chem.Draw.MolsToGridImage(mols)"
   ]
  },
  {
   "cell_type": "code",
   "execution_count": 5,
   "metadata": {},
   "outputs": [],
   "source": [
    "# Setup toml file for initial reinforcement learning run\n",
    "\n",
    "settings = f\"\"\"# REINVENT4 TOML input example for reinforcement/curriculum learning\n",
    "#\n",
    "#\n",
    "# Curriculum learning in REINVENT4 is a multi-stage reinforcement learning\n",
    "# run.  One or more stages (auto CL) can be defined.  But it is also\n",
    "# possible to continue a run from any checkpoint file that is generated\n",
    "# during the run (manual CL).  Currently checkpoints are written at the end\n",
    "# of a run also when the run is forcefully terminated with Ctrl-C.\n",
    "\n",
    "\n",
    "run_type = \"staged_learning\"\n",
    "device = \"{device}\"  # set torch device e.g. \"cpu\"\n",
    "tb_logdir = \"{os.path.join(output_folder, \"tb_logs\")}\"  # name of the TensorBoard logging directory\n",
    "json_out_config = \"{os.path.join(config_folder, \"_staged_learning.json\")}\"  # write this TOML to JSON\n",
    "\n",
    "[parameters]\n",
    "\n",
    "# Uncomment one of the comment blocks below.  Each generator needs a model\n",
    "# file and possibly a SMILES file with seed structures.  If the run is to\n",
    "# be continued after termination, the agent_file would have to be replaced\n",
    "# with the checkpoint file.\n",
    "\n",
    "summary_csv_prefix = \"{os.path.join(output_folder, \"staged_learning\")}\"  # prefix for the CSV file\n",
    "use_checkpoint = false  # if true read diversity filter from agent_file\n",
    "purge_memories = false  # if true purge all diversity filter memories after each stage\n",
    "\n",
    "## LibInvent\n",
    "prior_file = \"{os.path.join(\"../priors/\",prior_file)}\"\n",
    "agent_file = \"{os.path.join(\"../priors/\",prior_file)}\"\n",
    "smiles_file = \"{os.path.join(config_folder,scaffold_file)}\"  # 1 scaffold per line with attachment points\n",
    "\n",
    "batch_size = 64          # network\n",
    "\n",
    "unique_sequences = true  # if true remove all duplicates raw sequences in each step\n",
    "                         # only here for backward compatibility\n",
    "randomize_smiles = true  # if true shuffle atoms in SMILES randomly\n",
    "\n",
    "\n",
    "[learning_strategy]\n",
    "\n",
    "type = \"dap\"      # dap: only one supported\n",
    "sigma = 128       # sigma of the RL reward function\n",
    "rate = 0.0001     # for torch.optim\n",
    "\n",
    "\n",
    "[diversity_filter]  # optional, comment section out or remove if unneeded\n",
    "                    # NOTE: also memorizes all seen SMILES\n",
    "\n",
    "type = \"IdenticalMurckoScaffold\" # IdenticalTopologicalScaffold,\n",
    "                                 # ScaffoldSimilarity, PenalizeSameSmiles\n",
    "bucket_size = 25                 # memory size in number of compounds\n",
    "minscore = 0.5                   # only memorize if this threshold is exceeded\n",
    "minsimilarity = 0.4              # minimum similarity for ScaffoldSimilarity\n",
    "penalty_multiplier = 0.5         # penalty factor for PenalizeSameSmiles\n",
    "\n",
    "### Stage 1 - Initial reinforcement learning  run\n",
    "[[stage]]\n",
    "\n",
    "chkpt_file = '{os.path.join(model_folder, \"checkpoint_1.chkpt\")}'\n",
    "\n",
    "termination = \"simple\"\n",
    "max_score = {max_score}\n",
    "min_steps = {min_steps}\n",
    "max_steps = {max_steps}\n",
    "\n",
    "[stage.scoring]\n",
    "type = \"geometric_mean\"  # aggregation function\n",
    "filename = \"{os.path.join(config_folder,scoring_file)}\"  # file with scoring setup for this stage\n",
    "filetype = \"toml\"  # file format: TOML or JSON, no default, must be present\"\"\"\n",
    "\n",
    "# Setup sampling runs to generate checkpoint files\n",
    "\n",
    "for i in range(n_samples):\n",
    "    settings += f\"\"\"\n",
    "### Stage {i+2} - First sampling checkpoint\n",
    "[[stage]]\n",
    "\n",
    "chkpt_file = \"{os.path.join(model_folder, f\"checkpoint_{i+2}.chkpt\")}\"\n",
    "\n",
    "termination = \"simple\"\n",
    "max_score = 0.1\n",
    "min_steps = {min_steps_sample}\n",
    "max_steps = {min_steps_sample + 5}\n",
    "\n",
    "[stage.scoring]\n",
    "type = \"geometric_mean\"  # aggregation function\n",
    "filename = \"{os.path.join(config_folder,scoring_file)}\"  # same scoring file as previous stage\n",
    "filetype = \"toml\"  # file format: TOML or JSON, no default, must be present\"\"\"\n",
    "    \n",
    "with open(os.path.join(config_folder, config_file), \"w\") as f:\n",
    "    f.writelines(settings)"
   ]
  },
  {
   "cell_type": "code",
   "execution_count": 6,
   "metadata": {},
   "outputs": [
    {
     "name": "stderr",
     "output_type": "stream",
     "text": [
      "Failed to find the pandas get_adjustment() function to patch\n",
      "Failed to patch pandas - PandasTools will have limited functionality\n"
     ]
    },
    {
     "data": {
      "text/plain": [
       "0"
      ]
     },
     "execution_count": 6,
     "metadata": {},
     "output_type": "execute_result"
    }
   ],
   "source": [
    "# Run reinvent\n",
    "\n",
    "os.system(f\"reinvent {os.path.join(config_folder, config_file)} -l {os.path.join(output_folder, log_file)}\")"
   ]
  },
  {
   "attachments": {},
   "cell_type": "markdown",
   "metadata": {},
   "source": [
    "### Analysis with tensorboard"
   ]
  },
  {
   "cell_type": "code",
   "execution_count": 12,
   "metadata": {},
   "outputs": [
    {
     "name": "stdout",
     "output_type": "stream",
     "text": [
      "The tensorboard extension is already loaded. To reload it, use:\n",
      "  %reload_ext tensorboard\n"
     ]
    }
   ],
   "source": [
    "import pandas as pd\n",
    "\n",
    "%load_ext tensorboard"
   ]
  },
  {
   "cell_type": "code",
   "execution_count": 14,
   "metadata": {},
   "outputs": [
    {
     "data": {
      "text/html": [
       "\n",
       "      <iframe id=\"tensorboard-frame-b6dac5684ee71329\" width=\"100%\" height=\"800\" frameborder=\"0\">\n",
       "      </iframe>\n",
       "      <script>\n",
       "        (function() {\n",
       "          const frame = document.getElementById(\"tensorboard-frame-b6dac5684ee71329\");\n",
       "          const url = new URL(\"http://localhost\");\n",
       "          const port = 6006;\n",
       "          if (port) {\n",
       "            url.port = port;\n",
       "          }\n",
       "          frame.src = url;\n",
       "        })();\n",
       "      </script>\n",
       "    "
      ],
      "text/plain": [
       "<IPython.core.display.HTML object>"
      ]
     },
     "metadata": {},
     "output_type": "display_data"
    }
   ],
   "source": [
    "# View training run for the agent\n",
    "# If interactive window doesn't appear, tensorboard is avialable at http://localhost:6006/ if running\n",
    "\n",
    "%tensorboard --logdir ../outputs/tb_logs_0 --host localhost"
   ]
  }
 ],
 "metadata": {
  "kernelspec": {
   "display_name": "reinvent4",
   "language": "python",
   "name": "python3"
  },
  "language_info": {
   "codemirror_mode": {
    "name": "ipython",
    "version": 3
   },
   "file_extension": ".py",
   "mimetype": "text/x-python",
   "name": "python",
   "nbconvert_exporter": "python",
   "pygments_lexer": "ipython3",
   "version": "3.12.7"
  },
  "orig_nbformat": 4
 },
 "nbformat": 4,
 "nbformat_minor": 2
}
